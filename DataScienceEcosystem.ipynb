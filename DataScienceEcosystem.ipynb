{
 "cells": [
  {
   "cell_type": "markdown",
   "id": "0e9ac74f",
   "metadata": {},
   "source": [
    "# Data Science Tools and Ecosystem"
   ]
  },
  {
   "cell_type": "markdown",
   "id": "daf3ed02",
   "metadata": {},
   "source": [
    "## In this notebook, Data Science Tools and Ecosystem are summarized."
   ]
  },
  {
   "cell_type": "markdown",
   "id": "b37b6302",
   "metadata": {},
   "source": [
    "## __Objectives:__\n",
    "+ Understanding Data Science Ecosystem\n",
    "+ Programming Languages\n",
    "+ Version Control\n",
    "+ Visualization Tools\n",
    "+ Data Manipulation and Analysis"
   ]
  },
  {
   "cell_type": "markdown",
   "id": "325c969f",
   "metadata": {},
   "source": [
    "## Some of the popular languages that Data Scientists use are:\n",
    "1. python\n",
    "2. R\n",
    "3. Julia\n",
    "4. Javascript"
   ]
  },
  {
   "cell_type": "markdown",
   "id": "2f0cd2b1",
   "metadata": {},
   "source": [
    "## Some of the commonly used libraries used by Data Scientists include:\n",
    "1. Numpy\n",
    "2. Python\n",
    "3. Matplotlib\n",
    "4. Seaborn"
   ]
  },
  {
   "cell_type": "markdown",
   "id": "70648edb",
   "metadata": {},
   "source": [
    "|  Data Science Tools |\n",
    "|---------------------|\n",
    "| Jupyter notebooks  |\n",
    "| Visual studio code |\n",
    "| Spyder             |\n",
    "| Git % github     |"
   ]
  },
  {
   "cell_type": "markdown",
   "id": "a7c798fa",
   "metadata": {},
   "source": [
    "### Below are a few examples of evaluating arithmetic expressions in Python:\n"
   ]
  },
  {
   "cell_type": "code",
   "execution_count": 1,
   "id": "21a4ff84",
   "metadata": {},
   "outputs": [
    {
     "data": {
      "text/plain": [
       "17"
      ]
     },
     "execution_count": 1,
     "metadata": {},
     "output_type": "execute_result"
    }
   ],
   "source": [
    "# This a simple arithmetic expression to mutiply then add integers\n",
    "\n",
    "(3*4)+5"
   ]
  },
  {
   "cell_type": "code",
   "execution_count": 4,
   "id": "db2f5bba",
   "metadata": {},
   "outputs": [
    {
     "data": {
      "text/plain": [
       "3.3333333333333335"
      ]
     },
     "execution_count": 4,
     "metadata": {},
     "output_type": "execute_result"
    }
   ],
   "source": [
    "# This will convert 200 minutes to hours by diving by 60\n",
    "\n",
    "200 / 60\n",
    "\n"
   ]
  },
  {
   "cell_type": "markdown",
   "id": "d55ee09b",
   "metadata": {},
   "source": [
    "## Author\n",
    "Ekemini Inieke"
   ]
  },
  {
   "cell_type": "code",
   "execution_count": null,
   "id": "111eb828",
   "metadata": {},
   "outputs": [],
   "source": []
  }
 ],
 "metadata": {
  "kernelspec": {
   "display_name": "Python 3 (ipykernel)",
   "language": "python",
   "name": "python3"
  },
  "language_info": {
   "codemirror_mode": {
    "name": "ipython",
    "version": 3
   },
   "file_extension": ".py",
   "mimetype": "text/x-python",
   "name": "python",
   "nbconvert_exporter": "python",
   "pygments_lexer": "ipython3",
   "version": "3.11.4"
  }
 },
 "nbformat": 4,
 "nbformat_minor": 5
}
